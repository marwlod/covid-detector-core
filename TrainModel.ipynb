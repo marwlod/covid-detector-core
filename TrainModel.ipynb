{
 "cells": [
  {
   "cell_type": "markdown",
   "metadata": {},
   "source": [
    "\n",
    "# Libraries"
   ]
  },
  {
   "cell_type": "code",
   "execution_count": 15,
   "metadata": {
    "pycharm": {
     "name": "#%%\n"
    }
   },
   "outputs": [
    {
     "name": "stdout",
     "output_type": "stream",
     "text": [
      "Requirement already satisfied: opencv-python in ./venv/lib/python3.6/site-packages (4.5.2.54)\r\n",
      "Requirement already satisfied: numpy>=1.13.3 in ./venv/lib/python3.6/site-packages (from opencv-python) (1.19.5)\r\n",
      "Requirement already satisfied: ttach in ./venv/lib/python3.6/site-packages (0.0.3)\r\n",
      "Requirement already satisfied: grad-cam in ./venv/lib/python3.6/site-packages (1.2.9)\r\n"
     ]
    }
   ],
   "source": [
    "import copy\n",
    "from sklearn.metrics import classification_report, confusion_matrix\n",
    "import itertools\n",
    "import os\n",
    "import random\n",
    "import torch\n",
    "import torchvision\n",
    "import numpy as np\n",
    "\n",
    "from PIL import Image\n",
    "from matplotlib import pyplot as plt\n",
    "\n",
    "!pip install opencv-python\n",
    "!pip install ttach\n",
    "!pip install grad-cam\n",
    "%matplotlib inline\n"
   ]
  },
  {
   "cell_type": "markdown",
   "source": [
    "Configurate hyperparameters"
   ],
   "metadata": {
    "collapsed": false,
    "pycharm": {
     "name": "#%% md\n"
    }
   }
  },
  {
   "cell_type": "code",
   "execution_count": 16,
   "outputs": [],
   "source": [
    "EPOCHS = 20\n",
    "BATCH_SIZE = 32\n",
    "LEARNING_RATE = 1e-5"
   ],
   "metadata": {
    "collapsed": false,
    "pycharm": {
     "name": "#%%\n"
    }
   }
  },
  {
   "cell_type": "markdown",
   "metadata": {},
   "source": [
    "# Creating dataset"
   ]
  },
  {
   "cell_type": "code",
   "execution_count": 24,
   "metadata": {
    "pycharm": {
     "name": "#%%\n"
    }
   },
   "outputs": [],
   "source": [
    "class DetectorDataset(torch.utils.data.Dataset):\n",
    "    def __init__(self, dirs, transform):\n",
    "        self.images = {}\n",
    "        # normal class will be displayed as 0 in results, viral as 1, covid as 2\n",
    "        self.classes = ['normal', 'viral', 'covid']\n",
    "        for c in self.classes:\n",
    "            self.images[c] = [x for x in os.listdir(dirs[c]) if x[-3:].lower().endswith('png')]\n",
    "        self.image_dirs = dirs\n",
    "        self.transform = transform\n",
    "\n",
    "\n",
    "    def __len__(self):\n",
    "        return sum([len(self.images[c]) for c in self.classes])\n",
    "\n",
    "\n",
    "    def __getitem__(self, i):\n",
    "        # TODO implement Weighted Random Sampling\n",
    "        c = random.choice(self.classes)\n",
    "        i = i % len(self.images[c])\n",
    "        image_name = self.images[c][i]\n",
    "        image_path = os.path.join(self.image_dirs[c], image_name)\n",
    "        image = Image.open(image_path).convert('RGB')\n",
    "        return self.transform(image), self.classes.index(c)\n"
   ]
  },
  {
   "cell_type": "markdown",
   "metadata": {},
   "source": [
    "# Prepare train and test datasets"
   ]
  },
  {
   "cell_type": "code",
   "execution_count": 25,
   "metadata": {
    "pycharm": {
     "name": "#%%\n"
    }
   },
   "outputs": [],
   "source": [
    "means = [0.485, 0.456, 0.406]\n",
    "stds = [0.229, 0.224, 0.225]\n",
    "image_size = (224, 224)\n",
    "\n",
    "train_transform = torchvision.transforms.Compose([\n",
    "    torchvision.transforms.Resize(size=image_size),\n",
    "    torchvision.transforms.RandomHorizontalFlip(),\n",
    "    torchvision.transforms.ToTensor(),\n",
    "    torchvision.transforms.Normalize(mean=means, std=stds)\n",
    "])\n",
    "train_dirs = {\n",
    "    'normal': 'COVID-19_Radiography_Dataset/normal',\n",
    "    'viral': 'COVID-19_Radiography_Dataset/viral',\n",
    "    'covid': 'COVID-19_Radiography_Dataset/covid'\n",
    "}\n",
    "train_dataset = DetectorDataset(train_dirs, train_transform)\n",
    "dl_train = torch.utils.data.DataLoader(train_dataset, batch_size=BATCH_SIZE, shuffle=True)\n",
    "\n",
    "test_transform = torchvision.transforms.Compose([\n",
    "    torchvision.transforms.Resize(size=image_size),\n",
    "    torchvision.transforms.ToTensor(),\n",
    "    torchvision.transforms.Normalize(mean=means, std=stds)\n",
    "])\n",
    "test_dirs = {\n",
    "    'normal': 'COVID-19_Radiography_Dataset/test/normal',\n",
    "    'viral': 'COVID-19_Radiography_Dataset/test/viral',\n",
    "    'covid': 'COVID-19_Radiography_Dataset/test/covid'\n",
    "}\n",
    "test_dataset = DetectorDataset(test_dirs, test_transform)\n",
    "dl_test = torch.utils.data.DataLoader(test_dataset, batch_size=BATCH_SIZE, shuffle=True)"
   ]
  },
  {
   "cell_type": "markdown",
   "metadata": {},
   "source": [
    "# Creating the model"
   ]
  },
  {
   "cell_type": "code",
   "execution_count": 19,
   "metadata": {
    "pycharm": {
     "name": "#%%\n"
    }
   },
   "outputs": [],
   "source": [
    "model = torchvision.models.resnet50(pretrained=True)\n",
    "model.fc = torch.nn.Linear(in_features=2048, out_features=3)\n",
    "loss_fn = torch.nn.CrossEntropyLoss()\n",
    "optimizer = torch.optim.Adam(model.parameters(), lr=LEARNING_RATE)"
   ]
  },
  {
   "cell_type": "markdown",
   "metadata": {
    "pycharm": {
     "name": "#%% md\n"
    }
   },
   "source": [
    "Enable GPU acceleration on Colab"
   ]
  },
  {
   "cell_type": "code",
   "execution_count": 28,
   "metadata": {
    "pycharm": {
     "name": "#%%\n"
    }
   },
   "outputs": [],
   "source": [
    "if torch.cuda.is_available():\n",
    "    device = torch.device(\"cuda\")\n",
    "else:\n",
    "    device = torch.device(\"cpu\")\n"
   ]
  },
  {
   "cell_type": "code",
   "execution_count": 26,
   "metadata": {
    "pycharm": {
     "name": "#%%\n"
    }
   },
   "outputs": [],
   "source": [
    "def plot_confusion_matrix(cm,\n",
    "                          target_names,\n",
    "                          title='Confusion matrix'):\n",
    "    accuracy = np.trace(cm) / float(np.sum(cm))\n",
    "    misclass = 1 - accuracy\n",
    "    cmap = plt.get_cmap('Blues')\n",
    "\n",
    "    plt.figure(figsize=(8, 6))\n",
    "    plt.imshow(cm, interpolation='nearest', cmap=cmap)\n",
    "    plt.title(title)\n",
    "    plt.colorbar()\n",
    "\n",
    "    if target_names is not None:\n",
    "        tick_marks = np.arange(len(target_names))\n",
    "        plt.xticks(tick_marks, target_names, rotation=45)\n",
    "        plt.yticks(tick_marks, target_names)\n",
    "\n",
    "    thresh = 2 * cm.max()\n",
    "    for i, j in itertools.product(range(cm.shape[0]), range(cm.shape[1])):\n",
    "        plt.text(j, i, \"{:,}\".format(cm[i, j]),\n",
    "                 horizontalalignment=\"center\",\n",
    "                 color=\"white\" if cm[i, j] > thresh else \"black\")\n",
    "\n",
    "    plt.tight_layout()\n",
    "    plt.ylabel('True label')\n",
    "    plt.xlabel('Predicted label\\naccuracy={:0.4f}; misclass={:0.4f}'.format(accuracy, misclass))\n",
    "    plt.show()"
   ]
  },
  {
   "cell_type": "markdown",
   "metadata": {},
   "source": [
    "# Training the model"
   ]
  },
  {
   "cell_type": "code",
   "execution_count": 31,
   "metadata": {
    "pycharm": {
     "name": "#%%\n"
    }
   },
   "outputs": [],
   "source": [
    "validate_every = 200\n",
    "\n",
    "def evaluate_model(show_plots=False):\n",
    "    model.eval()\n",
    "    pred_list, true_list = [], []\n",
    "    accuracy, test_loss = 0, 0\n",
    "\n",
    "    for images, labels in dl_test:\n",
    "        images, labels = images.to(device), labels.to(device)\n",
    "        outputs = model(images)\n",
    "        loss = loss_fn(outputs, labels)\n",
    "        test_loss += loss.item()\n",
    "        _, predictions = torch.max(outputs, 1)\n",
    "        accuracy += sum((predictions == labels)).to(device)\n",
    "        if show_plots:\n",
    "            pred_list += list(predictions.cpu().numpy())\n",
    "            true_list += list(labels.cpu().numpy())\n",
    "\n",
    "    test_loss /= len(dl_test)\n",
    "    accuracy = accuracy / len(test_dataset)\n",
    "    if show_plots:\n",
    "        print(classification_report(pred_list, true_list, digits=5))\n",
    "        cm = confusion_matrix(true_list, pred_list)\n",
    "        plot_confusion_matrix(cm = cm, target_names = ['normal', 'viral', 'covid'])\n",
    "    model.train()\n",
    "    return test_loss, accuracy\n",
    "\n",
    "def train_model(epochs=10):\n",
    "    train_losses, test_losses = [], []\n",
    "    best_weights = copy.deepcopy(model.state_dict())\n",
    "    best_loss = np.inf\n",
    "    for epoch in range(epochs):\n",
    "        print(\"Starting epoch\", epoch + 1, \"/\", epochs)\n",
    "        train_loss, train_step = 0, 0\n",
    "        model.train()\n",
    "        for images, labels in dl_train:\n",
    "            images, labels = images.to(device), labels.to(device)\n",
    "            optimizer.zero_grad()\n",
    "            outputs = model(images)\n",
    "            loss = loss_fn(outputs, labels).to(device)\n",
    "            loss.backward()\n",
    "            optimizer.step()\n",
    "            train_loss += loss.item()\n",
    "            if train_step % validate_every == 0:\n",
    "                test_loss, accuracy = evaluate_model()\n",
    "                print(\"Validation loss:\", test_loss, \", accuracy:\", accuracy.item(),\n",
    "                      \"at step\", train_step)\n",
    "            train_step += 1\n",
    "        # at the end of each epoch check if the model is getting better\n",
    "        test_loss, accuracy = evaluate_model()\n",
    "        if test_loss < best_loss:\n",
    "            print(\"Saving new best model with validation loss\", test_loss,\n",
    "                  \"and accuracy\", accuracy.item())\n",
    "            best_loss = test_loss\n",
    "            best_weights = copy.deepcopy(model.state_dict())\n",
    "        train_loss /= len(dl_train)\n",
    "        train_losses.append(train_loss)\n",
    "        test_losses.append(test_loss)\n",
    "\n",
    "        print(\"Training loss after epoch\", epoch + 1, \":\", train_loss)\n",
    "    print(\"Training done\")\n",
    "    model.load_state_dict(best_weights)\n",
    "    plt.plot(train_losses, label=\"Training loss\")\n",
    "    plt.plot(test_losses, label=\"Validation loss\")\n",
    "    plt.legend(frameon=False)\n",
    "    plt.show()\n",
    "    return model\n"
   ]
  },
  {
   "cell_type": "markdown",
   "metadata": {},
   "source": [
    "# Train the model\n"
   ]
  },
  {
   "cell_type": "code",
   "execution_count": 28,
   "metadata": {
    "pycharm": {
     "name": "#%%\n"
    }
   },
   "outputs": [
    {
     "name": "stdout",
     "output_type": "stream",
     "text": [
      "Starting training..\n",
      "====================\n",
      "Starting epoch 1/5\n",
      "====================\n",
      "Evaluating at step 0\n",
      "Validation Loss: 1.0892, Accuracy: 0.3983\n",
      "Evaluating at step 20\n",
      "Validation Loss: 0.6125, Accuracy: 0.7617\n",
      "Evaluating at step 40\n",
      "Validation Loss: 0.3581, Accuracy: 0.8733\n",
      "Evaluating at step 60\n",
      "Validation Loss: 0.2583, Accuracy: 0.8933\n",
      "Evaluating at step 80\n",
      "Validation Loss: 0.2058, Accuracy: 0.9217\n",
      "Evaluating at step 100\n",
      "Validation Loss: 0.1815, Accuracy: 0.9367\n",
      "Evaluating at step 120\n",
      "Validation Loss: 0.1718, Accuracy: 0.9433\n",
      "Evaluating at step 140\n",
      "Validation Loss: 0.1534, Accuracy: 0.9400\n",
      "Evaluating at step 160\n",
      "Validation Loss: 0.1506, Accuracy: 0.9350\n",
      "Evaluating at step 180\n",
      "Validation Loss: 0.1209, Accuracy: 0.9533\n",
      "Evaluating at step 200\n",
      "Validation Loss: 0.1226, Accuracy: 0.9633\n",
      "Evaluating at step 220\n",
      "Validation Loss: 0.1111, Accuracy: 0.9650\n",
      "Evaluating at step 240\n",
      "Validation Loss: 0.1029, Accuracy: 0.9783\n",
      "Evaluating at step 260\n",
      "Validation Loss: 0.0891, Accuracy: 0.9750\n",
      "Evaluating at step 280\n",
      "Validation Loss: 0.0825, Accuracy: 0.9750\n",
      "Evaluating at step 300\n",
      "Validation Loss: 0.0737, Accuracy: 0.9817\n",
      "Evaluating at step 320\n",
      "Validation Loss: 0.0742, Accuracy: 0.9767\n",
      "Evaluating at step 340\n",
      "Validation Loss: 0.1031, Accuracy: 0.9650\n",
      "Evaluating at step 360\n",
      "Validation Loss: 0.0779, Accuracy: 0.9717\n",
      "Evaluating at step 380\n",
      "Validation Loss: 0.0741, Accuracy: 0.9750\n",
      "Evaluating at step 400\n",
      "Validation Loss: 0.0622, Accuracy: 0.9817\n",
      "Evaluating at step 420\n",
      "Validation Loss: 0.0845, Accuracy: 0.9750\n",
      "Evaluating at step 440\n",
      "Validation Loss: 0.1057, Accuracy: 0.9500\n",
      "Evaluating at step 460\n",
      "Validation Loss: 0.0733, Accuracy: 0.9650\n",
      "Evaluating at step 480\n",
      "Validation Loss: 0.1211, Accuracy: 0.9500\n",
      "Evaluating at step 500\n",
      "Validation Loss: 0.0762, Accuracy: 0.9800\n",
      "Evaluating at step 520\n",
      "Validation Loss: 0.0814, Accuracy: 0.9800\n",
      "Evaluating at step 540\n",
      "Validation Loss: 0.0914, Accuracy: 0.9567\n",
      "Evaluating at step 560\n",
      "Validation Loss: 0.0801, Accuracy: 0.9733\n",
      "Evaluating at step 580\n",
      "Validation Loss: 0.0780, Accuracy: 0.9683\n",
      "Evaluating at step 600\n",
      "Validation Loss: 0.0756, Accuracy: 0.9750\n",
      "Evaluating at step 620\n",
      "Validation Loss: 0.0488, Accuracy: 0.9850\n",
      "Evaluating at step 640\n",
      "Validation Loss: 0.0664, Accuracy: 0.9767\n",
      "Evaluating at step 660\n",
      "Validation Loss: 0.0548, Accuracy: 0.9817\n",
      "Evaluating at step 680\n",
      "Validation Loss: 0.0891, Accuracy: 0.9633\n",
      "Evaluating at step 700\n",
      "Validation Loss: 0.0913, Accuracy: 0.9617\n",
      "Evaluating at step 720\n",
      "Validation Loss: 0.0588, Accuracy: 0.9783\n",
      "Evaluating at step 740\n",
      "Validation Loss: 0.0885, Accuracy: 0.9567\n",
      "Evaluating at step 760\n",
      "Validation Loss: 0.0586, Accuracy: 0.9733\n",
      "Evaluating at step 780\n",
      "Validation Loss: 0.0522, Accuracy: 0.9867\n",
      "Evaluating at step 800\n",
      "Validation Loss: 0.0578, Accuracy: 0.9817\n",
      "Evaluating at step 820\n",
      "Validation Loss: 0.0899, Accuracy: 0.9717\n",
      "Evaluating at step 840\n",
      "Validation Loss: 0.0801, Accuracy: 0.9733\n",
      "Evaluating at step 860\n",
      "Validation Loss: 0.0748, Accuracy: 0.9633\n",
      "Evaluating at step 880\n",
      "Validation Loss: 0.0945, Accuracy: 0.9633\n",
      "Evaluating at step 900\n",
      "Validation Loss: 0.0698, Accuracy: 0.9717\n",
      "Training Loss: 0.1491\n",
      "====================\n",
      "Starting epoch 2/5\n",
      "====================\n",
      "Evaluating at step 0\n",
      "Validation Loss: 0.0965, Accuracy: 0.9650\n",
      "Evaluating at step 20\n",
      "Validation Loss: 0.0797, Accuracy: 0.9683\n",
      "Evaluating at step 40\n",
      "Validation Loss: 0.1013, Accuracy: 0.9650\n",
      "Evaluating at step 60\n",
      "Validation Loss: 0.1025, Accuracy: 0.9633\n",
      "Evaluating at step 80\n",
      "Validation Loss: 0.0611, Accuracy: 0.9717\n",
      "Evaluating at step 100\n",
      "Validation Loss: 0.0686, Accuracy: 0.9767\n",
      "Evaluating at step 120\n",
      "Validation Loss: 0.0529, Accuracy: 0.9783\n",
      "Evaluating at step 140\n",
      "Validation Loss: 0.0856, Accuracy: 0.9767\n",
      "Evaluating at step 160\n",
      "Validation Loss: 0.1048, Accuracy: 0.9633\n",
      "Evaluating at step 180\n",
      "Validation Loss: 0.0754, Accuracy: 0.9750\n",
      "Evaluating at step 200\n",
      "Validation Loss: 0.0556, Accuracy: 0.9783\n",
      "Evaluating at step 220\n",
      "Validation Loss: 0.0755, Accuracy: 0.9733\n",
      "Evaluating at step 240\n",
      "Validation Loss: 0.0653, Accuracy: 0.9767\n",
      "Evaluating at step 260\n",
      "Validation Loss: 0.0335, Accuracy: 0.9933\n",
      "Evaluating at step 280\n",
      "Validation Loss: 0.0419, Accuracy: 0.9933\n",
      "Evaluating at step 300\n",
      "Validation Loss: 0.0708, Accuracy: 0.9783\n",
      "Evaluating at step 320\n",
      "Validation Loss: 0.0487, Accuracy: 0.9783\n",
      "Evaluating at step 340\n",
      "Validation Loss: 0.0650, Accuracy: 0.9750\n",
      "Evaluating at step 360\n",
      "Validation Loss: 0.0640, Accuracy: 0.9717\n",
      "Evaluating at step 380\n",
      "Validation Loss: 0.0499, Accuracy: 0.9750\n",
      "Evaluating at step 400\n",
      "Validation Loss: 0.0521, Accuracy: 0.9833\n",
      "Evaluating at step 420\n",
      "Validation Loss: 0.0500, Accuracy: 0.9850\n",
      "Evaluating at step 440\n",
      "Validation Loss: 0.1207, Accuracy: 0.9467\n",
      "Evaluating at step 460\n",
      "Validation Loss: 0.0468, Accuracy: 0.9817\n",
      "Evaluating at step 480\n",
      "Validation Loss: 0.1349, Accuracy: 0.9600\n",
      "Evaluating at step 500\n",
      "Validation Loss: 0.0305, Accuracy: 0.9883\n",
      "Evaluating at step 520\n",
      "Validation Loss: 0.0374, Accuracy: 0.9867\n",
      "Evaluating at step 540\n"
     ]
    },
    {
     "ename": "KeyboardInterrupt",
     "evalue": "",
     "output_type": "error",
     "traceback": [
      "\u001B[0;31m---------------------------------------------------------------------------\u001B[0m",
      "\u001B[0;31mKeyboardInterrupt\u001B[0m                         Traceback (most recent call last)",
      "\u001B[0;32m<timed eval>\u001B[0m in \u001B[0;36m<module>\u001B[0;34m\u001B[0m\n",
      "\u001B[0;32m<ipython-input-27-0d8a1f362571>\u001B[0m in \u001B[0;36mtrain\u001B[0;34m(epochs)\u001B[0m\n\u001B[1;32m     27\u001B[0m                 \u001B[0mtrue_list\u001B[0m \u001B[0;34m=\u001B[0m \u001B[0;34m[\u001B[0m\u001B[0;34m]\u001B[0m\u001B[0;34m\u001B[0m\u001B[0;34m\u001B[0m\u001B[0m\n\u001B[1;32m     28\u001B[0m                 \u001B[0;32mfor\u001B[0m \u001B[0mval_step\u001B[0m\u001B[0;34m,\u001B[0m \u001B[0;34m(\u001B[0m\u001B[0mimages\u001B[0m\u001B[0;34m,\u001B[0m \u001B[0mlabels\u001B[0m\u001B[0;34m)\u001B[0m \u001B[0;32min\u001B[0m \u001B[0menumerate\u001B[0m\u001B[0;34m(\u001B[0m\u001B[0mdl_test\u001B[0m\u001B[0;34m)\u001B[0m\u001B[0;34m:\u001B[0m\u001B[0;34m\u001B[0m\u001B[0;34m\u001B[0m\u001B[0m\n\u001B[0;32m---> 29\u001B[0;31m                     \u001B[0moutputs\u001B[0m \u001B[0;34m=\u001B[0m \u001B[0mmodel\u001B[0m\u001B[0;34m(\u001B[0m\u001B[0mimages\u001B[0m\u001B[0;34m)\u001B[0m\u001B[0;34m\u001B[0m\u001B[0;34m\u001B[0m\u001B[0m\n\u001B[0m\u001B[1;32m     30\u001B[0m                     \u001B[0mloss\u001B[0m \u001B[0;34m=\u001B[0m \u001B[0mloss_fn\u001B[0m\u001B[0;34m(\u001B[0m\u001B[0moutputs\u001B[0m\u001B[0;34m,\u001B[0m \u001B[0mlabels\u001B[0m\u001B[0;34m)\u001B[0m\u001B[0;34m\u001B[0m\u001B[0;34m\u001B[0m\u001B[0m\n\u001B[1;32m     31\u001B[0m                     \u001B[0mval_loss\u001B[0m \u001B[0;34m+=\u001B[0m \u001B[0mloss\u001B[0m\u001B[0;34m.\u001B[0m\u001B[0mitem\u001B[0m\u001B[0;34m(\u001B[0m\u001B[0;34m)\u001B[0m\u001B[0;34m\u001B[0m\u001B[0;34m\u001B[0m\u001B[0m\n",
      "\u001B[0;32m~/dev/python/covid-detector-model/venv/lib/python3.6/site-packages/torch/nn/modules/module.py\u001B[0m in \u001B[0;36m_call_impl\u001B[0;34m(self, *input, **kwargs)\u001B[0m\n\u001B[1;32m   1049\u001B[0m         if not (self._backward_hooks or self._forward_hooks or self._forward_pre_hooks or _global_backward_hooks\n\u001B[1;32m   1050\u001B[0m                 or _global_forward_hooks or _global_forward_pre_hooks):\n\u001B[0;32m-> 1051\u001B[0;31m             \u001B[0;32mreturn\u001B[0m \u001B[0mforward_call\u001B[0m\u001B[0;34m(\u001B[0m\u001B[0;34m*\u001B[0m\u001B[0minput\u001B[0m\u001B[0;34m,\u001B[0m \u001B[0;34m**\u001B[0m\u001B[0mkwargs\u001B[0m\u001B[0;34m)\u001B[0m\u001B[0;34m\u001B[0m\u001B[0;34m\u001B[0m\u001B[0m\n\u001B[0m\u001B[1;32m   1052\u001B[0m         \u001B[0;31m# Do not call functions when jit is used\u001B[0m\u001B[0;34m\u001B[0m\u001B[0;34m\u001B[0m\u001B[0;34m\u001B[0m\u001B[0m\n\u001B[1;32m   1053\u001B[0m         \u001B[0mfull_backward_hooks\u001B[0m\u001B[0;34m,\u001B[0m \u001B[0mnon_full_backward_hooks\u001B[0m \u001B[0;34m=\u001B[0m \u001B[0;34m[\u001B[0m\u001B[0;34m]\u001B[0m\u001B[0;34m,\u001B[0m \u001B[0;34m[\u001B[0m\u001B[0;34m]\u001B[0m\u001B[0;34m\u001B[0m\u001B[0;34m\u001B[0m\u001B[0m\n",
      "\u001B[0;32m~/dev/python/covid-detector-model/venv/lib/python3.6/site-packages/torchvision/models/resnet.py\u001B[0m in \u001B[0;36mforward\u001B[0;34m(self, x)\u001B[0m\n\u001B[1;32m    247\u001B[0m \u001B[0;34m\u001B[0m\u001B[0m\n\u001B[1;32m    248\u001B[0m     \u001B[0;32mdef\u001B[0m \u001B[0mforward\u001B[0m\u001B[0;34m(\u001B[0m\u001B[0mself\u001B[0m\u001B[0;34m,\u001B[0m \u001B[0mx\u001B[0m\u001B[0;34m:\u001B[0m \u001B[0mTensor\u001B[0m\u001B[0;34m)\u001B[0m \u001B[0;34m->\u001B[0m \u001B[0mTensor\u001B[0m\u001B[0;34m:\u001B[0m\u001B[0;34m\u001B[0m\u001B[0;34m\u001B[0m\u001B[0m\n\u001B[0;32m--> 249\u001B[0;31m         \u001B[0;32mreturn\u001B[0m \u001B[0mself\u001B[0m\u001B[0;34m.\u001B[0m\u001B[0m_forward_impl\u001B[0m\u001B[0;34m(\u001B[0m\u001B[0mx\u001B[0m\u001B[0;34m)\u001B[0m\u001B[0;34m\u001B[0m\u001B[0;34m\u001B[0m\u001B[0m\n\u001B[0m\u001B[1;32m    250\u001B[0m \u001B[0;34m\u001B[0m\u001B[0m\n\u001B[1;32m    251\u001B[0m \u001B[0;34m\u001B[0m\u001B[0m\n",
      "\u001B[0;32m~/dev/python/covid-detector-model/venv/lib/python3.6/site-packages/torchvision/models/resnet.py\u001B[0m in \u001B[0;36m_forward_impl\u001B[0;34m(self, x)\u001B[0m\n\u001B[1;32m    236\u001B[0m \u001B[0;34m\u001B[0m\u001B[0m\n\u001B[1;32m    237\u001B[0m         \u001B[0mx\u001B[0m \u001B[0;34m=\u001B[0m \u001B[0mself\u001B[0m\u001B[0;34m.\u001B[0m\u001B[0mlayer1\u001B[0m\u001B[0;34m(\u001B[0m\u001B[0mx\u001B[0m\u001B[0;34m)\u001B[0m\u001B[0;34m\u001B[0m\u001B[0;34m\u001B[0m\u001B[0m\n\u001B[0;32m--> 238\u001B[0;31m         \u001B[0mx\u001B[0m \u001B[0;34m=\u001B[0m \u001B[0mself\u001B[0m\u001B[0;34m.\u001B[0m\u001B[0mlayer2\u001B[0m\u001B[0;34m(\u001B[0m\u001B[0mx\u001B[0m\u001B[0;34m)\u001B[0m\u001B[0;34m\u001B[0m\u001B[0;34m\u001B[0m\u001B[0m\n\u001B[0m\u001B[1;32m    239\u001B[0m         \u001B[0mx\u001B[0m \u001B[0;34m=\u001B[0m \u001B[0mself\u001B[0m\u001B[0;34m.\u001B[0m\u001B[0mlayer3\u001B[0m\u001B[0;34m(\u001B[0m\u001B[0mx\u001B[0m\u001B[0;34m)\u001B[0m\u001B[0;34m\u001B[0m\u001B[0;34m\u001B[0m\u001B[0m\n\u001B[1;32m    240\u001B[0m         \u001B[0mx\u001B[0m \u001B[0;34m=\u001B[0m \u001B[0mself\u001B[0m\u001B[0;34m.\u001B[0m\u001B[0mlayer4\u001B[0m\u001B[0;34m(\u001B[0m\u001B[0mx\u001B[0m\u001B[0;34m)\u001B[0m\u001B[0;34m\u001B[0m\u001B[0;34m\u001B[0m\u001B[0m\n",
      "\u001B[0;32m~/dev/python/covid-detector-model/venv/lib/python3.6/site-packages/torch/nn/modules/module.py\u001B[0m in \u001B[0;36m_call_impl\u001B[0;34m(self, *input, **kwargs)\u001B[0m\n\u001B[1;32m   1049\u001B[0m         if not (self._backward_hooks or self._forward_hooks or self._forward_pre_hooks or _global_backward_hooks\n\u001B[1;32m   1050\u001B[0m                 or _global_forward_hooks or _global_forward_pre_hooks):\n\u001B[0;32m-> 1051\u001B[0;31m             \u001B[0;32mreturn\u001B[0m \u001B[0mforward_call\u001B[0m\u001B[0;34m(\u001B[0m\u001B[0;34m*\u001B[0m\u001B[0minput\u001B[0m\u001B[0;34m,\u001B[0m \u001B[0;34m**\u001B[0m\u001B[0mkwargs\u001B[0m\u001B[0;34m)\u001B[0m\u001B[0;34m\u001B[0m\u001B[0;34m\u001B[0m\u001B[0m\n\u001B[0m\u001B[1;32m   1052\u001B[0m         \u001B[0;31m# Do not call functions when jit is used\u001B[0m\u001B[0;34m\u001B[0m\u001B[0;34m\u001B[0m\u001B[0;34m\u001B[0m\u001B[0m\n\u001B[1;32m   1053\u001B[0m         \u001B[0mfull_backward_hooks\u001B[0m\u001B[0;34m,\u001B[0m \u001B[0mnon_full_backward_hooks\u001B[0m \u001B[0;34m=\u001B[0m \u001B[0;34m[\u001B[0m\u001B[0;34m]\u001B[0m\u001B[0;34m,\u001B[0m \u001B[0;34m[\u001B[0m\u001B[0;34m]\u001B[0m\u001B[0;34m\u001B[0m\u001B[0;34m\u001B[0m\u001B[0m\n",
      "\u001B[0;32m~/dev/python/covid-detector-model/venv/lib/python3.6/site-packages/torch/nn/modules/container.py\u001B[0m in \u001B[0;36mforward\u001B[0;34m(self, input)\u001B[0m\n\u001B[1;32m    137\u001B[0m     \u001B[0;32mdef\u001B[0m \u001B[0mforward\u001B[0m\u001B[0;34m(\u001B[0m\u001B[0mself\u001B[0m\u001B[0;34m,\u001B[0m \u001B[0minput\u001B[0m\u001B[0;34m)\u001B[0m\u001B[0;34m:\u001B[0m\u001B[0;34m\u001B[0m\u001B[0;34m\u001B[0m\u001B[0m\n\u001B[1;32m    138\u001B[0m         \u001B[0;32mfor\u001B[0m \u001B[0mmodule\u001B[0m \u001B[0;32min\u001B[0m \u001B[0mself\u001B[0m\u001B[0;34m:\u001B[0m\u001B[0;34m\u001B[0m\u001B[0;34m\u001B[0m\u001B[0m\n\u001B[0;32m--> 139\u001B[0;31m             \u001B[0minput\u001B[0m \u001B[0;34m=\u001B[0m \u001B[0mmodule\u001B[0m\u001B[0;34m(\u001B[0m\u001B[0minput\u001B[0m\u001B[0;34m)\u001B[0m\u001B[0;34m\u001B[0m\u001B[0;34m\u001B[0m\u001B[0m\n\u001B[0m\u001B[1;32m    140\u001B[0m         \u001B[0;32mreturn\u001B[0m \u001B[0minput\u001B[0m\u001B[0;34m\u001B[0m\u001B[0;34m\u001B[0m\u001B[0m\n\u001B[1;32m    141\u001B[0m \u001B[0;34m\u001B[0m\u001B[0m\n",
      "\u001B[0;32m~/dev/python/covid-detector-model/venv/lib/python3.6/site-packages/torch/nn/modules/module.py\u001B[0m in \u001B[0;36m_call_impl\u001B[0;34m(self, *input, **kwargs)\u001B[0m\n\u001B[1;32m   1049\u001B[0m         if not (self._backward_hooks or self._forward_hooks or self._forward_pre_hooks or _global_backward_hooks\n\u001B[1;32m   1050\u001B[0m                 or _global_forward_hooks or _global_forward_pre_hooks):\n\u001B[0;32m-> 1051\u001B[0;31m             \u001B[0;32mreturn\u001B[0m \u001B[0mforward_call\u001B[0m\u001B[0;34m(\u001B[0m\u001B[0;34m*\u001B[0m\u001B[0minput\u001B[0m\u001B[0;34m,\u001B[0m \u001B[0;34m**\u001B[0m\u001B[0mkwargs\u001B[0m\u001B[0;34m)\u001B[0m\u001B[0;34m\u001B[0m\u001B[0;34m\u001B[0m\u001B[0m\n\u001B[0m\u001B[1;32m   1052\u001B[0m         \u001B[0;31m# Do not call functions when jit is used\u001B[0m\u001B[0;34m\u001B[0m\u001B[0;34m\u001B[0m\u001B[0;34m\u001B[0m\u001B[0m\n\u001B[1;32m   1053\u001B[0m         \u001B[0mfull_backward_hooks\u001B[0m\u001B[0;34m,\u001B[0m \u001B[0mnon_full_backward_hooks\u001B[0m \u001B[0;34m=\u001B[0m \u001B[0;34m[\u001B[0m\u001B[0;34m]\u001B[0m\u001B[0;34m,\u001B[0m \u001B[0;34m[\u001B[0m\u001B[0;34m]\u001B[0m\u001B[0;34m\u001B[0m\u001B[0;34m\u001B[0m\u001B[0m\n",
      "\u001B[0;32m~/dev/python/covid-detector-model/venv/lib/python3.6/site-packages/torchvision/models/resnet.py\u001B[0m in \u001B[0;36mforward\u001B[0;34m(self, x)\u001B[0m\n\u001B[1;32m     68\u001B[0m         \u001B[0midentity\u001B[0m \u001B[0;34m=\u001B[0m \u001B[0mx\u001B[0m\u001B[0;34m\u001B[0m\u001B[0;34m\u001B[0m\u001B[0m\n\u001B[1;32m     69\u001B[0m \u001B[0;34m\u001B[0m\u001B[0m\n\u001B[0;32m---> 70\u001B[0;31m         \u001B[0mout\u001B[0m \u001B[0;34m=\u001B[0m \u001B[0mself\u001B[0m\u001B[0;34m.\u001B[0m\u001B[0mconv1\u001B[0m\u001B[0;34m(\u001B[0m\u001B[0mx\u001B[0m\u001B[0;34m)\u001B[0m\u001B[0;34m\u001B[0m\u001B[0;34m\u001B[0m\u001B[0m\n\u001B[0m\u001B[1;32m     71\u001B[0m         \u001B[0mout\u001B[0m \u001B[0;34m=\u001B[0m \u001B[0mself\u001B[0m\u001B[0;34m.\u001B[0m\u001B[0mbn1\u001B[0m\u001B[0;34m(\u001B[0m\u001B[0mout\u001B[0m\u001B[0;34m)\u001B[0m\u001B[0;34m\u001B[0m\u001B[0;34m\u001B[0m\u001B[0m\n\u001B[1;32m     72\u001B[0m         \u001B[0mout\u001B[0m \u001B[0;34m=\u001B[0m \u001B[0mself\u001B[0m\u001B[0;34m.\u001B[0m\u001B[0mrelu\u001B[0m\u001B[0;34m(\u001B[0m\u001B[0mout\u001B[0m\u001B[0;34m)\u001B[0m\u001B[0;34m\u001B[0m\u001B[0;34m\u001B[0m\u001B[0m\n",
      "\u001B[0;32m~/dev/python/covid-detector-model/venv/lib/python3.6/site-packages/torch/nn/modules/module.py\u001B[0m in \u001B[0;36m_call_impl\u001B[0;34m(self, *input, **kwargs)\u001B[0m\n\u001B[1;32m   1049\u001B[0m         if not (self._backward_hooks or self._forward_hooks or self._forward_pre_hooks or _global_backward_hooks\n\u001B[1;32m   1050\u001B[0m                 or _global_forward_hooks or _global_forward_pre_hooks):\n\u001B[0;32m-> 1051\u001B[0;31m             \u001B[0;32mreturn\u001B[0m \u001B[0mforward_call\u001B[0m\u001B[0;34m(\u001B[0m\u001B[0;34m*\u001B[0m\u001B[0minput\u001B[0m\u001B[0;34m,\u001B[0m \u001B[0;34m**\u001B[0m\u001B[0mkwargs\u001B[0m\u001B[0;34m)\u001B[0m\u001B[0;34m\u001B[0m\u001B[0;34m\u001B[0m\u001B[0m\n\u001B[0m\u001B[1;32m   1052\u001B[0m         \u001B[0;31m# Do not call functions when jit is used\u001B[0m\u001B[0;34m\u001B[0m\u001B[0;34m\u001B[0m\u001B[0;34m\u001B[0m\u001B[0m\n\u001B[1;32m   1053\u001B[0m         \u001B[0mfull_backward_hooks\u001B[0m\u001B[0;34m,\u001B[0m \u001B[0mnon_full_backward_hooks\u001B[0m \u001B[0;34m=\u001B[0m \u001B[0;34m[\u001B[0m\u001B[0;34m]\u001B[0m\u001B[0;34m,\u001B[0m \u001B[0;34m[\u001B[0m\u001B[0;34m]\u001B[0m\u001B[0;34m\u001B[0m\u001B[0;34m\u001B[0m\u001B[0m\n",
      "\u001B[0;32m~/dev/python/covid-detector-model/venv/lib/python3.6/site-packages/torch/nn/modules/conv.py\u001B[0m in \u001B[0;36mforward\u001B[0;34m(self, input)\u001B[0m\n\u001B[1;32m    441\u001B[0m \u001B[0;34m\u001B[0m\u001B[0m\n\u001B[1;32m    442\u001B[0m     \u001B[0;32mdef\u001B[0m \u001B[0mforward\u001B[0m\u001B[0;34m(\u001B[0m\u001B[0mself\u001B[0m\u001B[0;34m,\u001B[0m \u001B[0minput\u001B[0m\u001B[0;34m:\u001B[0m \u001B[0mTensor\u001B[0m\u001B[0;34m)\u001B[0m \u001B[0;34m->\u001B[0m \u001B[0mTensor\u001B[0m\u001B[0;34m:\u001B[0m\u001B[0;34m\u001B[0m\u001B[0;34m\u001B[0m\u001B[0m\n\u001B[0;32m--> 443\u001B[0;31m         \u001B[0;32mreturn\u001B[0m \u001B[0mself\u001B[0m\u001B[0;34m.\u001B[0m\u001B[0m_conv_forward\u001B[0m\u001B[0;34m(\u001B[0m\u001B[0minput\u001B[0m\u001B[0;34m,\u001B[0m \u001B[0mself\u001B[0m\u001B[0;34m.\u001B[0m\u001B[0mweight\u001B[0m\u001B[0;34m,\u001B[0m \u001B[0mself\u001B[0m\u001B[0;34m.\u001B[0m\u001B[0mbias\u001B[0m\u001B[0;34m)\u001B[0m\u001B[0;34m\u001B[0m\u001B[0;34m\u001B[0m\u001B[0m\n\u001B[0m\u001B[1;32m    444\u001B[0m \u001B[0;34m\u001B[0m\u001B[0m\n\u001B[1;32m    445\u001B[0m \u001B[0;32mclass\u001B[0m \u001B[0mConv3d\u001B[0m\u001B[0;34m(\u001B[0m\u001B[0m_ConvNd\u001B[0m\u001B[0;34m)\u001B[0m\u001B[0;34m:\u001B[0m\u001B[0;34m\u001B[0m\u001B[0;34m\u001B[0m\u001B[0m\n",
      "\u001B[0;32m~/dev/python/covid-detector-model/venv/lib/python3.6/site-packages/torch/nn/modules/conv.py\u001B[0m in \u001B[0;36m_conv_forward\u001B[0;34m(self, input, weight, bias)\u001B[0m\n\u001B[1;32m    438\u001B[0m                             _pair(0), self.dilation, self.groups)\n\u001B[1;32m    439\u001B[0m         return F.conv2d(input, weight, bias, self.stride,\n\u001B[0;32m--> 440\u001B[0;31m                         self.padding, self.dilation, self.groups)\n\u001B[0m\u001B[1;32m    441\u001B[0m \u001B[0;34m\u001B[0m\u001B[0m\n\u001B[1;32m    442\u001B[0m     \u001B[0;32mdef\u001B[0m \u001B[0mforward\u001B[0m\u001B[0;34m(\u001B[0m\u001B[0mself\u001B[0m\u001B[0;34m,\u001B[0m \u001B[0minput\u001B[0m\u001B[0;34m:\u001B[0m \u001B[0mTensor\u001B[0m\u001B[0;34m)\u001B[0m \u001B[0;34m->\u001B[0m \u001B[0mTensor\u001B[0m\u001B[0;34m:\u001B[0m\u001B[0;34m\u001B[0m\u001B[0;34m\u001B[0m\u001B[0m\n",
      "\u001B[0;31mKeyboardInterrupt\u001B[0m: "
     ]
    }
   ],
   "source": [
    "%%time\n",
    "\n",
    "model = train_model(epochs=EPOCHS)"
   ]
  },
  {
   "cell_type": "markdown",
   "source": [
    "# Evaluate the model"
   ],
   "metadata": {
    "collapsed": false,
    "pycharm": {
     "name": "#%% md\n"
    }
   }
  },
  {
   "cell_type": "code",
   "execution_count": 32,
   "outputs": [
    {
     "name": "stdout",
     "output_type": "stream",
     "text": [
      "              precision    recall  f1-score   support\n",
      "\n",
      "           0    1.00000   0.97354   0.98660       189\n",
      "           1    0.98049   1.00000   0.99015       201\n",
      "           2    0.99526   1.00000   0.99762       210\n",
      "\n",
      "    accuracy                        0.99167       600\n",
      "   macro avg    0.99192   0.99118   0.99146       600\n",
      "weighted avg    0.99180   0.99167   0.99165       600\n",
      "\n"
     ]
    },
    {
     "data": {
      "text/plain": "<Figure size 576x432 with 2 Axes>",
      "image/png": "[encoded data removed]"
     },
     "metadata": {
      "needs_background": "light"
     },
     "output_type": "display_data"
    },
    {
     "data": {
      "text/plain": "(0.020421389756895798, tensor(0.9917))"
     },
     "execution_count": 32,
     "metadata": {},
     "output_type": "execute_result"
    }
   ],
   "source": [
    "evaluate_model(show_plots=True)"
   ],
   "metadata": {
    "collapsed": false,
    "pycharm": {
     "name": "#%%\n"
    }
   }
  },
  {
   "cell_type": "markdown",
   "metadata": {},
   "source": [
    "# Save the model to be used by application"
   ]
  },
  {
   "cell_type": "code",
   "execution_count": 29,
   "metadata": {
    "pycharm": {
     "name": "#%%\n"
    }
   },
   "outputs": [],
   "source": [
    "model.to('cpu')\n",
    "torch.save(model, \"resnet50_V3.pt\")"
   ]
  },
  {
   "cell_type": "markdown",
   "source": [
    "# Load saved model for evaluation"
   ],
   "metadata": {
    "collapsed": false,
    "pycharm": {
     "name": "#%% md\n"
    }
   }
  },
  {
   "cell_type": "code",
   "execution_count": 22,
   "outputs": [
    {
     "data": {
      "text/plain": "<All keys matched successfully>"
     },
     "execution_count": 22,
     "metadata": {},
     "output_type": "execute_result"
    }
   ],
   "source": [
    "MODEL_TO_LOAD = \"resnet50_V3.pt\"\n",
    "\n",
    "model = torchvision.models.resnet50(pretrained=True)\n",
    "model.fc = torch.nn.Linear(in_features=2048, out_features=3)\n",
    "model.load_state_dict(torch.load(MODEL_TO_LOAD))"
   ],
   "metadata": {
    "collapsed": false,
    "pycharm": {
     "name": "#%%\n"
    }
   }
  },
  {
   "cell_type": "code",
   "execution_count": null,
   "outputs": [],
   "source": [],
   "metadata": {
    "collapsed": false,
    "pycharm": {
     "name": "#%%\n"
    }
   }
  }
 ],
 "metadata": {
  "kernelspec": {
   "display_name": "Python 3",
   "language": "python",
   "name": "python3"
  },
  "language_info": {
   "codemirror_mode": {
    "name": "ipython",
    "version": 3
   },
   "file_extension": ".py",
   "mimetype": "text/x-python",
   "name": "python",
   "nbconvert_exporter": "python",
   "pygments_lexer": "ipython3",
   "version": "3.6.9"
  }
 },
 "nbformat": 4,
 "nbformat_minor": 1
}